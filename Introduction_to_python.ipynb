{
 "cells": [
  {
   "cell_type": "markdown",
   "metadata": {},
   "source": [
    "# Intro to Python\n",
    "# Operators"
   ]
  },
  {
   "cell_type": "markdown",
   "metadata": {},
   "source": [
    "<table class=\"tg\">\n",
    "<thead>\n",
    "  <tr>\n",
    "    <th class=\"tg-1wig\"><span style=\"font-weight:700;font-style:normal;text-decoration:none;color:#000;background-color:transparent\">Operator</span></th>\n",
    "    <th class=\"tg-1wig\"><span style=\"font-weight:700;font-style:normal;text-decoration:none;color:#000;background-color:transparent\">Name</span></th>\n",
    "  </tr>\n",
    "</thead>\n",
    "<tbody>\n",
    "  <tr>\n",
    "    <td class=\"tg-0lax\"><span style=\"font-weight:400;font-style:normal;text-decoration:none;color:#000;background-color:transparent\">+</span></td>\n",
    "    <td class=\"tg-0lax\"><span style=\"font-weight:400;font-style:normal;text-decoration:none;color:#000;background-color:transparent\">Addition</span></td>\n",
    "  </tr>\n",
    "  <tr>\n",
    "    <td class=\"tg-0lax\"><span style=\"font-weight:400;font-style:normal;text-decoration:none;color:#000;background-color:transparent\">-</span></td>\n",
    "    <td class=\"tg-0lax\"><span style=\"font-weight:400;font-style:normal;text-decoration:none;color:#000;background-color:transparent\">Subtraction</span></td>\n",
    "  </tr>\n",
    "  <tr>\n",
    "    <td class=\"tg-0lax\"><span style=\"font-weight:400;font-style:normal;text-decoration:none;color:#000;background-color:transparent\">*</span></td>\n",
    "    <td class=\"tg-0lax\"><span style=\"font-weight:400;font-style:normal;text-decoration:none;color:#000;background-color:transparent\">Multiplication</span></td>\n",
    "  </tr>\n",
    "  <tr>\n",
    "    <td class=\"tg-0lax\"><span style=\"font-weight:400;font-style:normal;text-decoration:none;color:#000;background-color:transparent\">/</span></td>\n",
    "    <td class=\"tg-0lax\"><span style=\"font-weight:400;font-style:normal;text-decoration:none;color:#000;background-color:transparent\">Division</span></td>\n",
    "  </tr>\n",
    "  <tr>\n",
    "    <td class=\"tg-0lax\"><span style=\"font-weight:400;font-style:normal;text-decoration:none;color:#000;background-color:transparent\">and</span></td>\n",
    "    <td class=\"tg-0lax\"><span style=\"font-weight:400;font-style:normal;text-decoration:none;color:#000;background-color:transparent\">Returns True if both statements are true</span></td>\n",
    "  </tr>\n",
    "  <tr>\n",
    "    <td class=\"tg-0lax\"><span style=\"font-weight:400;font-style:normal;text-decoration:none;color:#000;background-color:transparent\">or</span></td>\n",
    "    <td class=\"tg-0lax\"><span style=\"font-weight:400;font-style:normal;text-decoration:none;color:#000;background-color:transparent\">Returns True if one of the statements is true</span></td>\n",
    "  </tr>\n",
    "  <tr>\n",
    "    <td class=\"tg-0lax\"><span style=\"font-weight:400;font-style:normal;text-decoration:none;color:#000;background-color:transparent\">not</span></td>\n",
    "    <td class=\"tg-0lax\"><span style=\"font-weight:400;font-style:normal;text-decoration:none;color:#000;background-color:transparent\">Reverses the result: returns False if True</span></td>\n",
    "  </tr>\n",
    "</tbody>\n",
    "</table>"
   ]
  },
  {
   "cell_type": "code",
   "execution_count": null,
   "metadata": {},
   "outputs": [],
   "source": [
    "print(3+10)\n",
    "print(10-3)\n",
    "print(3*10)\n",
    "print(10/2)"
   ]
  },
  {
   "cell_type": "code",
   "execution_count": null,
   "metadata": {},
   "outputs": [],
   "source": [
    "x=5\n",
    "print(x>3 and x<10)\n",
    "print(x>3 or x<10)\n",
    "print(not(x>3 and x<10))"
   ]
  },
  {
   "cell_type": "code",
   "execution_count": null,
   "metadata": {},
   "outputs": [],
   "source": [
    "# Operators can be used on strings too!\n",
    "print('tea' + 'leaf')\n",
    "print('Bee' * 3) "
   ]
  },
  {
   "cell_type": "code",
   "execution_count": null,
   "metadata": {},
   "outputs": [],
   "source": [
    "range(3)"
   ]
  },
  {
   "cell_type": "markdown",
   "metadata": {},
   "source": [
    "# If… Else\n",
    "\n",
    "An 'if else' is a conditional statement that runs a different set of statements depending on whether an expression is true or false."
   ]
  },
  {
   "cell_type": "markdown",
   "metadata": {},
   "source": [
    "Equals: a == b \\\n",
    "Not Equals: a != b \\\n",
    "Less than: a < b \\\n",
    "Less than or equal to: a <= b \\\n",
    "Greater than: a > b \\\n",
    "Greater than or equal to: a >= b"
   ]
  },
  {
   "cell_type": "code",
   "execution_count": null,
   "metadata": {},
   "outputs": [],
   "source": [
    "a = 33\n",
    "b = 200\n",
    "if b > a:\n",
    "    print(\"b is greater than a\")"
   ]
  },
  {
   "cell_type": "code",
   "execution_count": null,
   "metadata": {},
   "outputs": [],
   "source": [
    "a = 200\n",
    "b = 33\n",
    "if b > a:\n",
    "    print(\"b is greater than a\")"
   ]
  },
  {
   "cell_type": "code",
   "execution_count": null,
   "metadata": {},
   "outputs": [],
   "source": [
    "a = 200\n",
    "b = 33\n",
    "if b > a:\n",
    "    print(\"b is greater than a\")\n",
    "else: \n",
    "    print(\"b is less than or equal than a\")"
   ]
  },
  {
   "cell_type": "code",
   "execution_count": null,
   "metadata": {},
   "outputs": [],
   "source": [
    "a = 33\n",
    "b = 200\n",
    "if b > a:\n",
    "    print(\"b is greater than a\")\n",
    "elif b < a:\n",
    "    print(\"a is greater than b\")\n",
    "else: \n",
    "    print(\"a is equal to b\")"
   ]
  },
  {
   "cell_type": "code",
   "execution_count": null,
   "metadata": {},
   "outputs": [],
   "source": [
    "num = 3.4\n",
    "\n",
    "if num > 0:\n",
    "    print(\"Positive number\")\n",
    "elif num == 0:\n",
    "    print(\"Zero\")\n",
    "else:\n",
    "    print(\"Negative number\")"
   ]
  },
  {
   "cell_type": "markdown",
   "metadata": {},
   "source": [
    "## Exercise 1\n",
    "\n",
    "Try these two variations as well:\n",
    "num = 0\n",
    "num = -4.5"
   ]
  },
  {
   "cell_type": "markdown",
   "metadata": {},
   "source": [
    "# For loop\n",
    "\n",
    "We use for loops to iterate over a sequence. For example:"
   ]
  },
  {
   "cell_type": "code",
   "execution_count": null,
   "metadata": {},
   "outputs": [],
   "source": [
    "fruits = [\"apple\", \"banana\", \"cherry\"]\n",
    "for fruit in fruits:\n",
    "  print(fruit) "
   ]
  },
  {
   "cell_type": "code",
   "execution_count": null,
   "metadata": {},
   "outputs": [],
   "source": [
    "# Iterate through a string\n",
    "\n",
    "for letter in \"banana\":\n",
    "  print(letter)"
   ]
  },
  {
   "cell_type": "code",
   "execution_count": null,
   "metadata": {},
   "outputs": [],
   "source": [
    "# Using enumerate to loop through position and values (letters) of a string\n",
    "\n",
    "for position, letter in enumerate(\"banana\"):\n",
    "  print(position, letter)"
   ]
  },
  {
   "cell_type": "markdown",
   "metadata": {},
   "source": [
    "## Exercise 2\r\n",
    "\r\n",
    "Print First 10 positive integers using while loop (click the \"expand\" button below to see example solution)"
   ]
  },
  {
   "cell_type": "code",
   "execution_count": null,
   "metadata": {},
   "outputs": [],
   "source": [
    "# write your solution in this cell\r\n",
    "\r\n"
   ]
  },
  {
   "cell_type": "code",
   "execution_count": null,
   "metadata": {},
   "outputs": [],
   "source": [
    "# SOLUTION 2\r\n",
    "\r\n",
    "for i in range(10):\r\n",
    "    print(i+1)"
   ]
  },
  {
   "cell_type": "markdown",
   "metadata": {},
   "source": [
    "# List\n",
    "\n",
    "A list is an abstract data type that represents a finite number of ordered values, where the same value may occur more than once.\n",
    "Access to individual element, the index start from 0"
   ]
  },
  {
   "cell_type": "code",
   "execution_count": null,
   "metadata": {},
   "outputs": [],
   "source": [
    "my_list = ['a','b','c','b','d','e']\n",
    "print(my_list[0]) # returns 'a'\n",
    "print(my_list[5]) # returns 'e'\n",
    "print(my_list[-1]) # returns 'e'\n",
    "print(my_list[5] == my_list[-1]) # returns True"
   ]
  },
  {
   "cell_type": "code",
   "execution_count": null,
   "metadata": {},
   "outputs": [],
   "source": [
    "# Check if an element exist in the list\n",
    "\n",
    "print('b' in my_list)"
   ]
  },
  {
   "cell_type": "code",
   "execution_count": null,
   "metadata": {},
   "outputs": [],
   "source": [
    "# Remove an element in the list\n",
    "\n",
    "my_list.remove('b') # It will remove just the first b\n",
    "my_list"
   ]
  },
  {
   "cell_type": "code",
   "execution_count": null,
   "metadata": {},
   "outputs": [],
   "source": [
    "my_list.pop()"
   ]
  },
  {
   "cell_type": "code",
   "execution_count": null,
   "metadata": {},
   "outputs": [],
   "source": [
    "my_list"
   ]
  },
  {
   "cell_type": "code",
   "execution_count": null,
   "metadata": {},
   "outputs": [],
   "source": [
    "# Adding a element at the end of the list\n",
    "\n",
    "my_list.append('g')\n",
    "my_list"
   ]
  },
  {
   "cell_type": "code",
   "execution_count": null,
   "metadata": {},
   "outputs": [],
   "source": [
    "# Adding a list at the end of the list\n",
    "\n",
    "another_list = ['i','j']\n",
    "my_list.extend(another_list)\n",
    "my_list"
   ]
  },
  {
   "cell_type": "code",
   "execution_count": null,
   "metadata": {},
   "outputs": [],
   "source": [
    "# Addition\n",
    "\n",
    "x,y = [1], [2,3]\n",
    "x+y"
   ]
  },
  {
   "cell_type": "code",
   "execution_count": null,
   "metadata": {},
   "outputs": [],
   "source": [
    "# Multiplication\n",
    "\n",
    "x*10 "
   ]
  },
  {
   "cell_type": "code",
   "execution_count": null,
   "metadata": {},
   "outputs": [],
   "source": [
    "x"
   ]
  },
  {
   "cell_type": "code",
   "execution_count": null,
   "metadata": {},
   "outputs": [],
   "source": [
    "# Loop through a list\n",
    "\n",
    "for offset, element in enumerate(my_list):\n",
    "    if element =='b':\n",
    "        print(offset)\n",
    "        break"
   ]
  },
  {
   "cell_type": "markdown",
   "metadata": {},
   "source": [
    "## Exercise 3\r\n",
    "\r\n",
    "Using a loop modify the list my_list = [] into my_list = [0, 2, 4, 6, 8] (click the \"expand\" button below to see example solution)"
   ]
  },
  {
   "cell_type": "code",
   "execution_count": null,
   "metadata": {},
   "outputs": [],
   "source": [
    "# write your solution in this cell\r\n"
   ]
  },
  {
   "cell_type": "code",
   "execution_count": null,
   "metadata": {},
   "outputs": [],
   "source": [
    "# SOLUTION 3\r\n",
    "\r\n",
    "my_list = []\r\n",
    "\r\n",
    "for i in [0,2,4,6,8]:\r\n",
    "    my_list.append(i)"
   ]
  },
  {
   "cell_type": "markdown",
   "metadata": {},
   "source": [
    "# Slicing\n",
    "\n",
    "Selecting multiple values across several indexes: var[ from_index : to_index ]\n",
    "- var[from_index:] means from_index all the way to the end of the data structure\n",
    "- var[:to_index] means from 0 up to to_index\n"
   ]
  },
  {
   "cell_type": "code",
   "execution_count": null,
   "metadata": {},
   "outputs": [],
   "source": [
    "quote = \"be the change you wish to see in the world!\"\n",
    "quote[0:2]"
   ]
  },
  {
   "cell_type": "code",
   "execution_count": null,
   "metadata": {},
   "outputs": [],
   "source": [
    "quote[2:]"
   ]
  },
  {
   "cell_type": "code",
   "execution_count": null,
   "metadata": {},
   "outputs": [],
   "source": [
    "quote[0:-6]"
   ]
  },
  {
   "cell_type": "code",
   "execution_count": null,
   "metadata": {},
   "outputs": [],
   "source": [
    "quote[:-6]"
   ]
  },
  {
   "cell_type": "code",
   "execution_count": null,
   "metadata": {},
   "outputs": [],
   "source": [
    "quote[:-6] + 'bedroom'"
   ]
  },
  {
   "cell_type": "markdown",
   "metadata": {},
   "source": [
    "## Exercise 4\r\n",
    "\r\n",
    "Reverse a list in Python\\\r\n",
    "Given:\\\r\n",
    "list1 = [100, 200, 300, 400, 500]\\\r\n",
    "Expected output:\\\r\n",
    "list1 = [500, 400, 300, 200, 100]\r\n",
    "\r\n",
    "(click the \"expand\" button below to see example solution)\r\n"
   ]
  },
  {
   "cell_type": "code",
   "execution_count": null,
   "metadata": {},
   "outputs": [],
   "source": [
    "list1 = [100, 200, 300, 400, 500]"
   ]
  },
  {
   "cell_type": "code",
   "execution_count": null,
   "metadata": {},
   "outputs": [],
   "source": [
    "# write your solution in this cell\r\n"
   ]
  },
  {
   "cell_type": "code",
   "execution_count": null,
   "metadata": {},
   "outputs": [],
   "source": [
    "# SOLUTION 4\r\n",
    "\r\n",
    "list1.reverse()\r\n",
    "print(list1)\r\n",
    "\r\n",
    "list1 = list1[::-1]\r\n",
    "print(list1)"
   ]
  },
  {
   "cell_type": "markdown",
   "metadata": {},
   "source": [
    "# Tuples\n",
    "\n",
    "Tuple is an immutable (unchangeable) collection of elements of different data types. It is an ordered collection, so it preserves the order of elements in which they were defined."
   ]
  },
  {
   "cell_type": "code",
   "execution_count": null,
   "metadata": {},
   "outputs": [],
   "source": [
    "names = ('Jeff', 'Bill', 'Steve', 'Yash')\n",
    "print(names[0])"
   ]
  },
  {
   "cell_type": "code",
   "execution_count": null,
   "metadata": {},
   "outputs": [],
   "source": [
    "print(names[-4])"
   ]
  },
  {
   "cell_type": "markdown",
   "metadata": {},
   "source": [
    "Update or Delete Tuple elements: Tuple is unchangeable. So, once a tuple is created, any operation that seeks to change its contents is not allowed. For instance, trying to modify or delete an element of names tuple will result in an error."
   ]
  },
  {
   "cell_type": "code",
   "execution_count": null,
   "metadata": {},
   "outputs": [],
   "source": [
    "names[0] = 'Swati'"
   ]
  },
  {
   "cell_type": "code",
   "execution_count": null,
   "metadata": {},
   "outputs": [],
   "source": [
    "del names[0]"
   ]
  },
  {
   "cell_type": "code",
   "execution_count": null,
   "metadata": {},
   "outputs": [],
   "source": [
    "names"
   ]
  },
  {
   "cell_type": "code",
   "execution_count": null,
   "metadata": {},
   "outputs": [],
   "source": [
    "# You can delete an entire tuple using the del keyword.\n",
    "\n",
    "del names"
   ]
  },
  {
   "cell_type": "code",
   "execution_count": null,
   "metadata": {},
   "outputs": [],
   "source": [
    "names"
   ]
  },
  {
   "cell_type": "markdown",
   "metadata": {},
   "source": [
    "# Sets\n",
    "\n",
    "A set is a mutable collection of distinct (unique) hashable objects. It is an unordered collection of objects, meaning it does not record element position or order of insertion and so cannot access elements using indexes."
   ]
  },
  {
   "cell_type": "code",
   "execution_count": null,
   "metadata": {},
   "outputs": [],
   "source": [
    "even_nums = {2, 4, 6, 8, 10} # set of even numbers\n",
    "even_nums.add(12)\n",
    "even_nums"
   ]
  },
  {
   "cell_type": "code",
   "execution_count": null,
   "metadata": {},
   "outputs": [],
   "source": [
    "8 in even_nums"
   ]
  },
  {
   "cell_type": "code",
   "execution_count": null,
   "metadata": {},
   "outputs": [],
   "source": [
    "{2, 4, 6} & even_nums"
   ]
  },
  {
   "cell_type": "code",
   "execution_count": null,
   "metadata": {},
   "outputs": [],
   "source": [
    "emp = {1, 'Steve', 10.5, True}"
   ]
  },
  {
   "cell_type": "markdown",
   "metadata": {},
   "source": [
    "# Dictionaries\n",
    "\n",
    "A dictionary is an unordered and mutable Python container that stores mappings of unique keys to values. Dictionaries are written with curly brackets ({}), including key-value pairs separated by commas (,). A colon (:) separates each key from its value."
   ]
  },
  {
   "cell_type": "code",
   "execution_count": null,
   "metadata": {},
   "outputs": [],
   "source": [
    "translation = {'hello': 'goodbye'}\n",
    "translation['hello']"
   ]
  },
  {
   "cell_type": "code",
   "execution_count": null,
   "metadata": {},
   "outputs": [],
   "source": [
    "# Adding a key key,value to the list\n",
    "\n",
    "translation['table'] = 'mesa'\n",
    "translation"
   ]
  },
  {
   "cell_type": "code",
   "execution_count": null,
   "metadata": {},
   "outputs": [],
   "source": [
    "# Changing a key key,value to the list\n",
    "\n",
    "translation['hello'] = 'hola'\n",
    "translation"
   ]
  },
  {
   "cell_type": "code",
   "execution_count": null,
   "metadata": {},
   "outputs": [],
   "source": [
    "translation.update({'hello': 'ciao', 'windows': 'ventana'})\n",
    "translation"
   ]
  },
  {
   "cell_type": "code",
   "execution_count": null,
   "metadata": {},
   "outputs": [],
   "source": [
    "# Removing an element\n",
    "\n",
    "translation.pop('windows')"
   ]
  },
  {
   "cell_type": "code",
   "execution_count": null,
   "metadata": {},
   "outputs": [],
   "source": [
    "translation"
   ]
  },
  {
   "cell_type": "code",
   "execution_count": null,
   "metadata": {},
   "outputs": [],
   "source": [
    "# Loop through the dictionary\n",
    "\n",
    "for key, value in translation.items():\n",
    "    print(key, '-->', value)"
   ]
  },
  {
   "cell_type": "code",
   "execution_count": null,
   "metadata": {},
   "outputs": [],
   "source": [
    "# Dictionary can contains lists\n",
    "\n",
    "likes = {\n",
    "    'michael' : ['annie hall', 'manhatten'],\n",
    "    'tina' : ['alien', 'aliens']}"
   ]
  },
  {
   "cell_type": "markdown",
   "metadata": {},
   "source": [
    "## Exercise 5\r\n",
    "\r\n",
    "Add to the list likes above: the key \"robert\" with the likes list: junior, kid, child (click the \"expand\" button below to see solution)"
   ]
  },
  {
   "cell_type": "code",
   "execution_count": null,
   "metadata": {},
   "outputs": [],
   "source": [
    "# write your solution in this cell\r\n"
   ]
  },
  {
   "cell_type": "code",
   "execution_count": null,
   "metadata": {},
   "outputs": [],
   "source": [
    "# SOLUTION 5\r\n",
    "\r\n",
    "# option 1\r\n",
    "translation['robert'] = ['junior', 'kid', 'child']\r\n",
    "# option 2\r\n",
    "translation.update({'robert': ['junior', 'kid', 'child']})\r\n"
   ]
  },
  {
   "cell_type": "markdown",
   "metadata": {},
   "source": [
    "## Exercise 6\r\n",
    "Convert two lists into a dictionary\r\n",
    "\r\n",
    "Below are the two lists. Write a Python program to convert them into a dictionary in a way that item from list1 is the key and item from list2 is the value\r\n",
    "\r\n",
    "keys = ['Ten', 'Twenty', 'Thirty']\r\n",
    "values = [10, 20, 30]\r\n",
    "\r\n",
    "Expected output:\r\n",
    "\r\n",
    "{'Ten': 10, 'Twenty': 20, 'Thirty': 30}\r\n",
    "\r\n",
    "(click the \"expand\" button below to see solution)"
   ]
  },
  {
   "cell_type": "code",
   "execution_count": null,
   "metadata": {},
   "outputs": [],
   "source": [
    "keys = ['Ten', 'Twenty', 'Thirty']\n",
    "values = [10, 20, 30]"
   ]
  },
  {
   "cell_type": "code",
   "execution_count": null,
   "metadata": {},
   "outputs": [],
   "source": [
    "# write your solution in this cell\r\n"
   ]
  },
  {
   "cell_type": "code",
   "execution_count": null,
   "metadata": {},
   "outputs": [],
   "source": [
    "# SOLUTION 6\r\n",
    "\r\n",
    "# empty dictionary\r\n",
    "res_dict = dict()\r\n",
    "\r\n",
    "for i in range(len(keys)):\r\n",
    "    res_dict.update({keys[i]: values[i]})\r\n",
    "print(res_dict)\r\n"
   ]
  },
  {
   "cell_type": "markdown",
   "metadata": {},
   "source": [
    "# Functions: syntax\n",
    "\n",
    "- Functions are pieces of code that take input(s), manipulate it and return an output\n",
    "- def keyword defines a function in Python\n",
    "- return keyword defines return value and exits the function\n",
    "- A function doesn’t have to return anything but usually useful to return\n"
   ]
  },
  {
   "cell_type": "code",
   "execution_count": null,
   "metadata": {},
   "outputs": [],
   "source": [
    "def sum_two_numbers(a=2,b=3):\n",
    "    '''\n",
    "    This function takes two numbers and returns their sum\n",
    "    '''\n",
    "    return a + b"
   ]
  },
  {
   "cell_type": "code",
   "execution_count": null,
   "metadata": {},
   "outputs": [],
   "source": [
    "sum_two_numbers(2,3)"
   ]
  },
  {
   "cell_type": "code",
   "execution_count": null,
   "metadata": {},
   "outputs": [],
   "source": [
    "sum_two_numbers(6,7)"
   ]
  },
  {
   "cell_type": "markdown",
   "metadata": {},
   "source": [
    "- An argument is an input (a piece of data) passed in to a function (can be anything you want, even another function)\n",
    "- Argument types\n",
    "    - Positional args (*args)\n",
    "        - Compulsory, no default values\n",
    "    - Keyword args (**kwargs)\n",
    "        - These have default values and are optional when calling the function"
   ]
  },
  {
   "cell_type": "code",
   "execution_count": null,
   "metadata": {},
   "outputs": [],
   "source": [
    "def print_arguments(*arguments):\n",
    "    print(arguments)\n",
    "print_arguments(1,2,3)"
   ]
  },
  {
   "cell_type": "code",
   "execution_count": null,
   "metadata": {},
   "outputs": [],
   "source": [
    "def print_arguments(*arguments, **keyword_arguments):\n",
    "    print(arguments)\n",
    "    print(keyword_arguments)\n",
    "print_arguments(1,2,3,a=\"first_kwarg\",b=\"second_kwarg\")"
   ]
  },
  {
   "cell_type": "markdown",
   "metadata": {},
   "source": [
    "## Exercise 7\r\n",
    "\r\n",
    "Write a function which prints its arguments doubled (double_args)\r\n",
    "Eg double_args(1,2,3,4) should print 2, 4, 6, 8\r\n",
    "(click the \"expand\" button below to see solution)\r\n"
   ]
  },
  {
   "cell_type": "code",
   "execution_count": null,
   "metadata": {},
   "outputs": [],
   "source": [
    "# write your solution in this cell\r\n"
   ]
  },
  {
   "cell_type": "code",
   "execution_count": null,
   "metadata": {},
   "outputs": [],
   "source": [
    "# SOLUTION 7\r\n",
    "\r\n",
    "def double_args(*args):\r\n",
    "    \"\"\"\r\n",
    "    This function prints its arguments multiplied by 2\r\n",
    "    \"\"\"\r\n",
    "    for arg in args:\r\n",
    "        print(arg*2)\r\n"
   ]
  },
  {
   "cell_type": "markdown",
   "metadata": {},
   "source": [
    "# Functions: scope\n",
    "\n",
    "- Functions are locally scoped: whatever is defined in the function is defined only within the function\n",
    "- You can access objects defined outside the function from inside the function, but not the other way around\n"
   ]
  },
  {
   "cell_type": "code",
   "execution_count": null,
   "metadata": {},
   "outputs": [],
   "source": [
    "letter = 'a'\n",
    "def create_number():\n",
    "    number = 7\n",
    "    print(number)\n",
    "    print(letter)\n",
    "create_number() "
   ]
  },
  {
   "cell_type": "code",
   "execution_count": null,
   "metadata": {},
   "outputs": [],
   "source": [
    "print(number)"
   ]
  },
  {
   "cell_type": "markdown",
   "metadata": {},
   "source": [
    "# Functions: built-in functions and some methods\n",
    "\n",
    "- Python3 Built-in (ready-to-use) functions listed in alphabetical order https://docs.python.org/3/library/functions.html \n",
    "- Some useful ones: print, type, len, min, max, range, enumerate\n"
   ]
  },
  {
   "cell_type": "code",
   "execution_count": null,
   "metadata": {},
   "outputs": [],
   "source": [
    "len([\"a\",\"b\",\"c\",\"d\"])"
   ]
  },
  {
   "cell_type": "code",
   "execution_count": null,
   "metadata": {},
   "outputs": [],
   "source": [
    "type(2)"
   ]
  },
  {
   "cell_type": "markdown",
   "metadata": {},
   "source": [
    "- Python built-in datatypes also have useful methods:\n",
    "    - list.append() adds to the end of the list\n",
    "    - str.split() splits string into pieces based on a separator (default = whitespace) and returns a list of the pieces\n",
    "    - Etc - learn as you go\n"
   ]
  },
  {
   "cell_type": "markdown",
   "metadata": {},
   "source": [
    "## Exercise 8\r\n",
    "\r\n",
    "Write a function that removes all non-integer values from a list (clean_list)\r\n",
    "- Takes in [1, 2, 3, 2.5, ”hello”, 4, “there”]\r\n",
    "- Returns [1, 2, 3, 4]\r\n",
    "\r\n",
    "(click the \"expand\" button below to see solution)"
   ]
  },
  {
   "cell_type": "code",
   "execution_count": null,
   "metadata": {},
   "outputs": [],
   "source": [
    "my_list=[1, 2, 3, 2.5, 'hello', 4, 'there']"
   ]
  },
  {
   "cell_type": "code",
   "execution_count": null,
   "metadata": {},
   "outputs": [],
   "source": [
    "# write your solution in this cell\r\n"
   ]
  },
  {
   "cell_type": "code",
   "execution_count": null,
   "metadata": {},
   "outputs": [],
   "source": [
    "# SOLUTION 8\r\n",
    "\r\n",
    "def clean_list_a(my_list):\r\n",
    "    cleaned_list = []\r\n",
    "    for i in my_list:\r\n",
    "        if type(i) == int:\r\n",
    "            cleaned_list.append(i)\r\n",
    "    return cleaned_list\r\n",
    "clean_list_a(my_list)\r\n",
    "\r\n",
    "\r\n",
    "def clean_list_b(my_list):\r\n",
    "    return [i for i in my_list if type(i) == int]\r\n",
    "clean_list_b(my_list)\r\n",
    "\r\n"
   ]
  },
  {
   "cell_type": "markdown",
   "metadata": {},
   "source": [
    "## Exercise 9\r\n",
    "\r\n",
    "Write a function that takes in a dictionary of named lists and returns it with None’s removed from each list (clean_dict)\r\n",
    "- Takes in {'list1': [1,2,None,4,5,6,None,8], 'list2':['a',None,'c','d',None,'f','g',None]}\r\n",
    "- Returns {'list1': [1,2,4,5,6,8], 'list2':['a','c','d','f','g']}\r\n",
    "\r\n",
    "(click the \"expand\" button below to see solution)\r\n"
   ]
  },
  {
   "cell_type": "code",
   "execution_count": null,
   "metadata": {},
   "outputs": [],
   "source": [
    "list1 = [1,2,None,4,5,6,None,8]\r\n",
    "list2 = ['a',None,'c','d',None,'f','g',None]\r\n",
    "\r\n",
    "my_dict1 = {'list1': list1, 'list2': list2}"
   ]
  },
  {
   "cell_type": "code",
   "execution_count": null,
   "metadata": {},
   "outputs": [],
   "source": [
    "# write your solution in this cell\r\n"
   ]
  },
  {
   "cell_type": "code",
   "execution_count": null,
   "metadata": {},
   "outputs": [],
   "source": [
    "# SOLUTION 9\r\n",
    "\r\n",
    "def clean_dict_a(my_dict):\r\n",
    "    for key, lst in my_dict.items():\r\n",
    "        my_dict[key] = [i for i in lst if i != None]\r\n",
    "    return my_dict\r\n",
    "\r\n",
    "clean_dict_a(my_dict1)\r\n",
    "\r\n",
    "def clean_dict_b(my_dict):\r\n",
    "    for key in my_dict.keys():\r\n",
    "        my_dict[key] = [i for i in my_dict[key] if i != None]\r\n",
    "    return my_dict\r\n",
    "\r\n",
    "clean_dict_b(my_dict1)"
   ]
  },
  {
   "cell_type": "markdown",
   "metadata": {},
   "source": [
    "# Modules: importing from a module"
   ]
  },
  {
   "cell_type": "code",
   "execution_count": null,
   "metadata": {},
   "outputs": [],
   "source": [
    "import numpy as np\n",
    "My_array = np.array([1,2,3])"
   ]
  },
  {
   "cell_type": "code",
   "execution_count": null,
   "metadata": {},
   "outputs": [],
   "source": [
    "from datetime import date\n",
    "My_date = date(2019, 4, 13)"
   ]
  },
  {
   "cell_type": "markdown",
   "metadata": {},
   "source": [
    "# EXTRA. Modules: exercise 10\n",
    "\n",
    "- Put the functions clean_list and clean_dict you created in the previous exercise into a single module, \n",
    "- Import them into a new file\n",
    "- Use them in the new file to clean the below list and dictionary\n",
    "- [1, 2, 3, 2.5, ”hello”, 4, “there”]\n",
    "- {'list1': [1,2,None,4,5,6,None,8], 'list2':['a',None,'c','d',None,'f','g',None]}"
   ]
  },
  {
   "cell_type": "markdown",
   "metadata": {},
   "source": [
    "# EXTRA. A brief word on software testing\n",
    "\n",
    "- We want to ensure the behaviour of our code matches what we expect\n",
    "- Writing tests helps with this\n",
    "    - Unit tests refer to tests that check the behaviour of individual components of the application, eg individual functions\n",
    "    - Integration tests refer to tests that check the behaviour of the entire application, ie it checks that all the individual components work together as expected\n",
    "- A fully tested application is much easier to maintain and extend further\n",
    "- Pytest is a commonly used Python library for testing"
   ]
  }
 ],
 "metadata": {
  "kernelspec": {
   "display_name": "Python 3 (ipykernel)",
   "language": "python",
   "name": "python3"
  },
  "language_info": {
   "codemirror_mode": {
    "name": "ipython",
    "version": 3
   },
   "file_extension": ".py",
   "mimetype": "text/x-python",
   "name": "python",
   "nbconvert_exporter": "python",
   "pygments_lexer": "ipython3",
   "version": "3.8.5"
  }
 },
 "nbformat": 4,
 "nbformat_minor": 5
}